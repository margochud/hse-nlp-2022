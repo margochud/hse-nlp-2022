{
 "cells": [
  {
   "cell_type": "code",
   "execution_count": 1,
   "metadata": {},
   "outputs": [],
   "source": [
    "import os\n",
    "import pandas as pd"
   ]
  },
  {
   "cell_type": "code",
   "execution_count": 2,
   "metadata": {},
   "outputs": [
    {
     "data": {
      "text/plain": [
       "'/home/vsg/repos/hse-nlp/data/processed'"
      ]
     },
     "execution_count": 2,
     "metadata": {},
     "output_type": "execute_result"
    }
   ],
   "source": [
    "ROOT_DIR = os.path.split(os.getcwd())[0]\n",
    "DATA_DIR = os.path.join(ROOT_DIR, 'data', 'processed')\n",
    "DATA_DIR\n"
   ]
  },
  {
   "cell_type": "code",
   "execution_count": 3,
   "metadata": {},
   "outputs": [
    {
     "data": {
      "text/html": [
       "<div>\n",
       "<style scoped>\n",
       "    .dataframe tbody tr th:only-of-type {\n",
       "        vertical-align: middle;\n",
       "    }\n",
       "\n",
       "    .dataframe tbody tr th {\n",
       "        vertical-align: top;\n",
       "    }\n",
       "\n",
       "    .dataframe thead th {\n",
       "        text-align: right;\n",
       "    }\n",
       "</style>\n",
       "<table border=\"1\" class=\"dataframe\">\n",
       "  <thead>\n",
       "    <tr style=\"text-align: right;\">\n",
       "      <th></th>\n",
       "      <th>journal</th>\n",
       "      <th>DOI</th>\n",
       "      <th>abstract</th>\n",
       "      <th>keywords</th>\n",
       "    </tr>\n",
       "  </thead>\n",
       "  <tbody>\n",
       "    <tr>\n",
       "      <th>0</th>\n",
       "      <td>ieee-proc</td>\n",
       "      <td>10.1109/PROC.1966.4567</td>\n",
       "      <td>The present report calculates in some detail t...</td>\n",
       "      <td>0000000100000000000000000000000000000000000000...</td>\n",
       "    </tr>\n",
       "    <tr>\n",
       "      <th>1</th>\n",
       "      <td>ieee-proc</td>\n",
       "      <td>10.1109/PROC.1966.4569</td>\n",
       "      <td>In this paper, a novel method of evaluating tr...</td>\n",
       "      <td>0000000101000000000001000000000000000000000000...</td>\n",
       "    </tr>\n",
       "    <tr>\n",
       "      <th>2</th>\n",
       "      <td>ieee-proc</td>\n",
       "      <td>10.1109/PROC.1966.4570</td>\n",
       "      <td>Characteristics of a sealed vacuum gap are des...</td>\n",
       "      <td>0000000000000000000000000000001000000000000000...</td>\n",
       "    </tr>\n",
       "    <tr>\n",
       "      <th>3</th>\n",
       "      <td>ieee-proc</td>\n",
       "      <td>10.1109/PROC.1966.4571</td>\n",
       "      <td>Conventional matched filters which use pseudor...</td>\n",
       "      <td>0000000100000000000000000000000000000000000000...</td>\n",
       "    </tr>\n",
       "    <tr>\n",
       "      <th>4</th>\n",
       "      <td>ieee-proc</td>\n",
       "      <td>10.1109/PROC.1966.4572</td>\n",
       "      <td>A reading device for the blind is proposed in ...</td>\n",
       "      <td>0000000000000000000000000000000000000000000100...</td>\n",
       "    </tr>\n",
       "  </tbody>\n",
       "</table>\n",
       "</div>"
      ],
      "text/plain": [
       "     journal                     DOI  \\\n",
       "0  ieee-proc  10.1109/PROC.1966.4567   \n",
       "1  ieee-proc  10.1109/PROC.1966.4569   \n",
       "2  ieee-proc  10.1109/PROC.1966.4570   \n",
       "3  ieee-proc  10.1109/PROC.1966.4571   \n",
       "4  ieee-proc  10.1109/PROC.1966.4572   \n",
       "\n",
       "                                            abstract  \\\n",
       "0  The present report calculates in some detail t...   \n",
       "1  In this paper, a novel method of evaluating tr...   \n",
       "2  Characteristics of a sealed vacuum gap are des...   \n",
       "3  Conventional matched filters which use pseudor...   \n",
       "4  A reading device for the blind is proposed in ...   \n",
       "\n",
       "                                            keywords  \n",
       "0  0000000100000000000000000000000000000000000000...  \n",
       "1  0000000101000000000001000000000000000000000000...  \n",
       "2  0000000000000000000000000000001000000000000000...  \n",
       "3  0000000100000000000000000000000000000000000000...  \n",
       "4  0000000000000000000000000000000000000000000100...  "
      ]
     },
     "execution_count": 3,
     "metadata": {},
     "output_type": "execute_result"
    }
   ],
   "source": [
    "fname = os.path.join(DATA_DIR, 'dataset.csv')\n",
    "df = pd.read_csv(fname, sep=',', quotechar='\"', encoding='utf-8', engine='python')\n",
    "df.head()"
   ]
  },
  {
   "cell_type": "code",
   "execution_count": null,
   "metadata": {},
   "outputs": [],
   "source": []
  }
 ],
 "metadata": {
  "interpreter": {
   "hash": "49448eeb8252ad14269e9870f41be38726e4e73e71663eea00cd1e0ba3be12df"
  },
  "kernelspec": {
   "display_name": "Python 3.9.7 64-bit ('code': venv)",
   "language": "python",
   "name": "python3"
  },
  "language_info": {
   "codemirror_mode": {
    "name": "ipython",
    "version": 3
   },
   "file_extension": ".py",
   "mimetype": "text/x-python",
   "name": "python",
   "nbconvert_exporter": "python",
   "pygments_lexer": "ipython3",
   "version": "3.9.7"
  },
  "orig_nbformat": 4
 },
 "nbformat": 4,
 "nbformat_minor": 2
}
